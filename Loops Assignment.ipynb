{
 "cells": [
  {
   "cell_type": "code",
   "execution_count": 1,
   "id": "51827020-b24e-49f2-8029-a588c6595935",
   "metadata": {},
   "outputs": [],
   "source": [
    "#Q.1 Print number from 1 to 5 using a while loop."
   ]
  },
  {
   "cell_type": "code",
   "execution_count": 2,
   "id": "457020eb-25f8-44c2-aa4f-5e2762fd275b",
   "metadata": {},
   "outputs": [
    {
     "name": "stdout",
     "output_type": "stream",
     "text": [
      "1\n",
      "2\n",
      "3\n",
      "4\n",
      "5\n"
     ]
    }
   ],
   "source": [
    "a = 6\n",
    "i = 1\n",
    "while i <a:\n",
    "    print(i)\n",
    "    i = i+1\n"
   ]
  },
  {
   "cell_type": "code",
   "execution_count": 3,
   "id": "7a920c62-1d4b-4b9f-8d20-354646451d18",
   "metadata": {},
   "outputs": [],
   "source": [
    "#Q.2 Calclate the sum of number from 1 to 10 using a while loop."
   ]
  },
  {
   "cell_type": "code",
   "execution_count": 5,
   "id": "0342041d-432a-48de-bbea-84758495043d",
   "metadata": {},
   "outputs": [
    {
     "name": "stdout",
     "output_type": "stream",
     "text": [
      "1\n",
      "3\n",
      "6\n",
      "10\n",
      "15\n",
      "21\n",
      "28\n",
      "36\n",
      "45\n",
      "55\n"
     ]
    }
   ],
   "source": [
    "sum = 0\n",
    "i = 1\n",
    "while i<=10:\n",
    "    sum = sum+i\n",
    "    i = i+1\n",
    "    print(sum)"
   ]
  },
  {
   "cell_type": "code",
   "execution_count": 1,
   "id": "36b9c96a-6f76-4f9b-a12b-c8e529b8d5cd",
   "metadata": {},
   "outputs": [],
   "source": [
    "#Q.3 Calclate the factorial of a number using a for loop."
   ]
  },
  {
   "cell_type": "code",
   "execution_count": 2,
   "id": "01a245b7-3a00-4b90-9720-6f4aca9cb68c",
   "metadata": {},
   "outputs": [
    {
     "name": "stdin",
     "output_type": "stream",
     "text": [
      "fact: 5\n"
     ]
    },
    {
     "name": "stdout",
     "output_type": "stream",
     "text": [
      "120\n"
     ]
    }
   ],
   "source": [
    "n = int(input(\"fact:\"))\n",
    "fact=1\n",
    "for i in range (n,1,-1):\n",
    "    fact=fact*i\n",
    "print(fact) #5!"
   ]
  },
  {
   "cell_type": "code",
   "execution_count": 3,
   "id": "51382cb8-4458-489b-a619-71627a52842f",
   "metadata": {},
   "outputs": [],
   "source": [
    "#Q.4 Count the number of vowel in a string using a for loop."
   ]
  },
  {
   "cell_type": "code",
   "execution_count": 5,
   "id": "4fdec0cf-de3f-40a9-b9bc-9c21cf2258f4",
   "metadata": {},
   "outputs": [
    {
     "name": "stdin",
     "output_type": "stream",
     "text": [
      "Enter any string: my name is gaurav\n"
     ]
    },
    {
     "name": "stdout",
     "output_type": "stream",
     "text": [
      "total vowel count: 6\n"
     ]
    }
   ],
   "source": [
    "a= input(\"Enter any string:\")\n",
    "vowel_count=0\n",
    "for i in a:\n",
    "    if (i ==\"a\" or i==\"e\" or i==\"i\" or i==\"o\" or i==\"u\"):\n",
    "        vowel_count = vowel_count+1\n",
    "print(\"total vowel count:\",vowel_count) #my name is gaurav"
   ]
  },
  {
   "cell_type": "code",
   "execution_count": 6,
   "id": "1f282e37-5383-4063-8f53-d9e85510a441",
   "metadata": {},
   "outputs": [],
   "source": [
    "#Q.5 Print a pattern using nested loop."
   ]
  },
  {
   "cell_type": "code",
   "execution_count": 9,
   "id": "450bc85f-0e62-4e1a-b7a8-49dbd1cf14d6",
   "metadata": {},
   "outputs": [
    {
     "name": "stdout",
     "output_type": "stream",
     "text": [
      "*\n",
      "\n",
      "**\n",
      "\n",
      "***\n",
      "\n",
      "****\n",
      "\n",
      "*****\n",
      "\n"
     ]
    }
   ],
   "source": [
    "for i in range(1,6):\n",
    "    for j in range(1,i+1):\n",
    "        print(\"*\", end=\"\")\n",
    "    print(\"\\n\")"
   ]
  },
  {
   "cell_type": "code",
   "execution_count": 10,
   "id": "53d9143b-c62e-4fa2-9c95-2996d21f88a1",
   "metadata": {},
   "outputs": [
    {
     "name": "stdout",
     "output_type": "stream",
     "text": [
      "*****\n",
      "\n",
      "****\n",
      "\n",
      "***\n",
      "\n",
      "**\n",
      "\n",
      "*\n",
      "\n"
     ]
    }
   ],
   "source": [
    "for i in range(5,0,-1):\n",
    "    for j in range(1,i+1):\n",
    "        print(\"*\", end=\"\")\n",
    "    print(\"\\n\")"
   ]
  },
  {
   "cell_type": "code",
   "execution_count": 11,
   "id": "af2e2cdc-31e5-4fd3-8ffb-0359ea210419",
   "metadata": {},
   "outputs": [],
   "source": [
    "#Q.6 Generate a multiplication table using nested loop."
   ]
  },
  {
   "cell_type": "code",
   "execution_count": 12,
   "id": "3fbdd659-5514-4c54-b445-fece23b22667",
   "metadata": {},
   "outputs": [
    {
     "name": "stdout",
     "output_type": "stream",
     "text": [
      " 1  2  3  4  5  6  7  8  9 10 \n",
      "\n",
      " 2  4  6  8 10 12 14 16 18 20 \n",
      "\n",
      " 3  6  9 12 15 18 21 24 27 30 \n",
      "\n",
      " 4  8 12 16 20 24 28 32 36 40 \n",
      "\n",
      " 5 10 15 20 25 30 35 40 45 50 \n",
      "\n",
      " 6 12 18 24 30 36 42 48 54 60 \n",
      "\n",
      " 7 14 21 28 35 42 49 56 63 70 \n",
      "\n",
      " 8 16 24 32 40 48 56 64 72 80 \n",
      "\n",
      " 9 18 27 36 45 54 63 72 81 90 \n",
      "\n",
      "10 20 30 40 50 60 70 80 90 100 \n",
      "\n"
     ]
    }
   ],
   "source": [
    "rows=10\n",
    "column=10\n",
    "for i in range(1,rows+1):\n",
    "    for j in range(1,column+1):\n",
    "        c = i*j\n",
    "        print(\"{:2d}\".format(c), end=\" \")\n",
    "    print(\"\\n\")"
   ]
  },
  {
   "cell_type": "code",
   "execution_count": null,
   "id": "e85b1e98-8766-4736-beb1-d4cb4c42b10f",
   "metadata": {},
   "outputs": [],
   "source": []
  }
 ],
 "metadata": {
  "kernelspec": {
   "display_name": "Python 3 (ipykernel)",
   "language": "python",
   "name": "python3"
  },
  "language_info": {
   "codemirror_mode": {
    "name": "ipython",
    "version": 3
   },
   "file_extension": ".py",
   "mimetype": "text/x-python",
   "name": "python",
   "nbconvert_exporter": "python",
   "pygments_lexer": "ipython3",
   "version": "3.10.8"
  }
 },
 "nbformat": 4,
 "nbformat_minor": 5
}
